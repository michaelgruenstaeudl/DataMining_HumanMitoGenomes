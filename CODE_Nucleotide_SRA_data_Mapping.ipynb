{
 "cells": [
  {
   "cell_type": "code",
   "execution_count": 1,
   "metadata": {},
   "outputs": [],
   "source": [
    "import pandas as pd\n",
    "import json\n",
    "\n",
    "from Bio import Entrez, SeqIO\n",
    "import lxml\n",
    "\n",
    "API_KEY = \"aabef60cf233ca4c95ce4dd917ddca3a5309\" # Please extract api key from NCBI website (sign in and get access to API KEY) \n",
    "Entrez.email = 'b_thapamagar@mail.fhsu.edu' # Mention the email address same as which is used to sign in NCBI.\n",
    "Entrez.api_key = API_KEY"
   ]
  },
  {
   "cell_type": "code",
   "execution_count": 2,
   "metadata": {},
   "outputs": [],
   "source": [
    "sra_metadata_list = []\n",
    "with open(\"Data/SRA_data/DATA_sra_info_in_pmc.json\", 'r') as file:\n",
    "    sra_metadata_list = json.load(file)\n",
    "# sra_metadata_list"
   ]
  },
  {
   "cell_type": "code",
   "execution_count": 3,
   "metadata": {},
   "outputs": [],
   "source": [
    "nucleotide_metadata_list = []\n",
    "with open(\"Data/Nucleotide_metadata/DATA_nucleotide_metadata_list.json\", 'r') as file:\n",
    "    nucleotide_metadata_list = json.load(file)\n",
    "# nucleotide_metadata_list"
   ]
  },
  {
   "cell_type": "code",
   "execution_count": 4,
   "metadata": {},
   "outputs": [
    {
     "name": "stdout",
     "output_type": "stream",
     "text": [
      "1976\n",
      "5144\n"
     ]
    }
   ],
   "source": [
    "print(len(sra_metadata_list))\n",
    "print(len(nucleotide_metadata_list))"
   ]
  },
  {
   "cell_type": "code",
   "execution_count": 5,
   "metadata": {},
   "outputs": [],
   "source": [
    "# Nucleotide csv file was missing bioporject accession information. So, this script is used to extract the bioproject information from nucleotide csv and add it to the nucleotide metadata json file.\n",
    "\n",
    "nucleotide_list = pd.read_csv(\"DATA_Nucleotide_Pubmed_data_combined.csv\")\n",
    "nucleotide_list_for_bioproj = []\n",
    "for item in nucleotide_metadata_list:\n",
    "    nucleotide_row = nucleotide_list[nucleotide_list['AccessionID'] == item['AccessionID']]\n",
    "    item[\"BioProject\"] = nucleotide_row[\"BioProject\"].values[0]\n",
    "    nucleotide_list_for_bioproj.append(item)"
   ]
  },
  {
   "cell_type": "code",
   "execution_count": 6,
   "metadata": {},
   "outputs": [],
   "source": [
    "from collections import defaultdict\n",
    "\n",
    "grouped_sra_data = defaultdict(list)\n",
    "for item in sra_metadata_list:\n",
    "    grouped_sra_data[item['BioProject']].append(item)"
   ]
  },
  {
   "cell_type": "code",
   "execution_count": 7,
   "metadata": {},
   "outputs": [
    {
     "data": {
      "text/plain": [
       "28"
      ]
     },
     "execution_count": 7,
     "metadata": {},
     "output_type": "execute_result"
    }
   ],
   "source": [
    "len(grouped_sra_data.keys())"
   ]
  },
  {
   "cell_type": "code",
   "execution_count": 8,
   "metadata": {},
   "outputs": [],
   "source": [
    "grouped_nucleotide_data = defaultdict(list)\n",
    "for item in nucleotide_metadata_list:\n",
    "    grouped_nucleotide_data[item['BioProject']].append(item)"
   ]
  },
  {
   "cell_type": "code",
   "execution_count": 9,
   "metadata": {},
   "outputs": [
    {
     "data": {
      "text/plain": [
       "28"
      ]
     },
     "execution_count": 9,
     "metadata": {},
     "output_type": "execute_result"
    }
   ],
   "source": [
    "len(grouped_nucleotide_data.keys())"
   ]
  },
  {
   "cell_type": "code",
   "execution_count": 10,
   "metadata": {},
   "outputs": [
    {
     "name": "stdout",
     "output_type": "stream",
     "text": [
      "Found matching SRA item for KY797263: 4685339\n",
      "Found matching SRA item for KY797262: 4685351\n",
      "Found matching SRA item for KY797261: 4685347\n",
      "Found matching SRA item for KY797260: 4685346\n",
      "Found matching SRA item for KY797259: 4685344\n",
      "Found matching SRA item for KY797258: 4685343\n",
      "Found matching SRA item for KY797257: 4685341\n",
      "Found matching SRA item for KY797256: 4685340\n",
      "Found matching SRA item for KY797255: 4685353\n",
      "Found matching SRA item for KY797254: 4685352\n",
      "Found matching SRA item for KY797253: 4685345\n",
      "Found matching SRA item for KY797250: 4685348\n",
      "Found matching SRA item for MK139624: 11322282\n",
      "Found matching SRA item for MK139623: 11322296\n",
      "Found matching SRA item for MK139622: 11322277\n",
      "Found matching SRA item for MK139621: 11322297\n",
      "Found matching SRA item for MK139620: 11322283\n",
      "Found matching SRA item for MK139619: 11322293\n",
      "Found matching SRA item for MK139618: 11322292\n",
      "Found matching SRA item for MK139617: 11322291\n",
      "Found matching SRA item for MK139616: 11322276\n",
      "Found matching SRA item for MK139615: 11322290\n",
      "Found matching SRA item for MK139614: 11322309\n",
      "Found matching SRA item for MK139613: 11322301\n",
      "Found matching SRA item for MK139612: 11322271\n",
      "Found matching SRA item for MK139611: 11322304\n",
      "Found matching SRA item for MK139610: 11322303\n",
      "Found matching SRA item for MK139609: 11322302\n",
      "Found matching SRA item for MK139608: 11322275\n",
      "Found matching SRA item for MK139607: 11322289\n",
      "Found matching SRA item for MK139606: 11322288\n",
      "Found matching SRA item for MK139605: 11322286\n",
      "Found matching SRA item for MK139604: 11322307\n",
      "Found matching SRA item for MK139603: 11322310\n",
      "Found matching SRA item for MK139602: 11322281\n",
      "Found matching SRA item for MK139601: 11322270\n",
      "Found matching SRA item for MK139600: 11322311\n",
      "Found matching SRA item for MK139599: 11322287\n",
      "Found matching SRA item for MK139598: 11322284\n",
      "Found matching SRA item for MK139597: 11322273\n",
      "Found matching SRA item for MK139596: 11322295\n",
      "Found matching SRA item for MK139595: 11322299\n",
      "Found matching SRA item for MK139594: 11322294\n",
      "Found matching SRA item for MK139593: 11322274\n",
      "Found matching SRA item for MK139592: 11322272\n",
      "Found matching SRA item for MK139591: 11322300\n",
      "Found matching SRA item for MK139590: 11322280\n",
      "Found matching SRA item for MK139589: 11322279\n",
      "Found matching SRA item for MK139588: 11322278\n",
      "Found matching SRA item for MK139587: 11322285\n",
      "Found matching SRA item for MK139586: 11322268\n",
      "Found matching SRA item for MK139585: 11322269\n",
      "Found matching SRA item for MK139584: 11322298\n",
      "Found matching SRA item for MK139583: 11322306\n",
      "Found matching SRA item for MK139582: 11322308\n",
      "Found matching SRA item for MK139581: 11322267\n",
      "Found matching SRA item for MK139580: 11322266\n",
      "Found matching SRA item for MK139579: 11322265\n",
      "Found matching SRA item for MK139578: 11322264\n",
      "Found matching SRA item for MK139577: 11322305\n",
      "Found matching SRA item for MK321345: 7013498\n",
      "Found matching SRA item for MK321344: 7013499\n",
      "Found matching SRA item for MK321343: 7013500\n",
      "Found matching SRA item for MK321342: 7013493\n",
      "Found matching SRA item for MK321341: 7013497\n",
      "Found matching SRA item for MK321340: 7013504\n",
      "Found matching SRA item for MK321339: 7013503\n",
      "Found matching SRA item for MK321338: 7013502\n",
      "Found matching SRA item for MK321336: 7013501\n",
      "Found matching SRA item for MK321335: 7013494\n",
      "Found matching SRA item for MK321334: 7013491\n",
      "Found matching SRA item for MK321334: 7013487\n",
      "Found matching SRA item for MK321333: 7013490\n",
      "Found matching SRA item for MK321333: 7013486\n",
      "Found matching SRA item for MK321332: 7013495\n",
      "Found matching SRA item for MK321331: 7013485\n",
      "Found matching SRA item for MK321331: 7013489\n",
      "Found matching SRA item for MK321330: 7013492\n",
      "Found matching SRA item for MK321329: 7013488\n",
      "Found matching SRA item for MK321329: 7013484\n",
      "Found matching SRA item for MF991448: 5842969\n",
      "Found matching SRA item for MF991446: 5842968\n",
      "Found matching SRA item for MF991445: 5842978\n",
      "Found matching SRA item for MF991445: 5842967\n",
      "Found matching SRA item for MF991444: 5842966\n",
      "Found matching SRA item for MF991444: 5842977\n",
      "Found matching SRA item for MF991443: 5842965\n",
      "Found matching SRA item for MF991443: 5842976\n",
      "Found matching SRA item for MF991440: 5842964\n",
      "Found matching SRA item for MF991440: 5842975\n",
      "Found matching SRA item for MF991438: 5842963\n",
      "Found matching SRA item for MF991438: 5842974\n",
      "Found matching SRA item for MF991437: 5842962\n",
      "Found matching SRA item for MF991437: 5842973\n",
      "Found matching SRA item for MF991435: 5842961\n",
      "Found matching SRA item for MF991434: 5842960\n",
      "Found matching SRA item for MF991433: 5842959\n",
      "Found matching SRA item for MF991433: 5842972\n",
      "Found matching SRA item for MF991432: 5842971\n",
      "Found matching SRA item for MF991432: 5842958\n",
      "Found matching SRA item for MF991431: 5842970\n",
      "Found matching SRA item for MF991431: 5842957\n",
      "\n",
      "Total number of matching SRA items found comparing isolate from Nucleotide and Library name from SRA: 89\n"
     ]
    }
   ],
   "source": [
    "count = 0\n",
    "is_found = False\n",
    "for item in nucleotide_metadata_list:\n",
    "    if(\"isolate\" in item.get(\"Source\", {})):\n",
    "        isolate_id = item[\"Source\"][\"isolate\"]\n",
    "        for sra_item in sra_metadata_list:\n",
    "            if \"LIBRARY_NAME\" in sra_item.get(\"Library\", {}):\n",
    "                if sra_item[\"Library\"][\"LIBRARY_NAME\"] == isolate_id:\n",
    "                    is_found = True\n",
    "                    print(f\"Found matching SRA item for {item[\"AccessionID\"]}: {sra_item[\"SRA_Id\"]}\")\n",
    "        if is_found:\n",
    "            count += 1\n",
    "        is_found = False\n",
    "print(f\"\\nTotal number of matching SRA items found comparing isolate from Nucleotide and Library name from SRA: {count}\")"
   ]
  },
  {
   "cell_type": "code",
   "execution_count": 11,
   "metadata": {},
   "outputs": [
    {
     "name": "stdout",
     "output_type": "stream",
     "text": [
      "PRJNA889366: nucleotide_len: 1 and sra_len: 2\n",
      "PRJNA850430: nucleotide_len: 1 and sra_len: 1\n",
      "PRJNA644600: nucleotide_len: 1 and sra_len: 10\n",
      "PRJNA636291: nucleotide_len: 105 and sra_len: 97\n",
      "PRJNA421333: nucleotide_len: 55 and sra_len: 80\n",
      "PRJNA416844: nucleotide_len: 98 and sra_len: 15\n",
      "PRJNA335708: nucleotide_len: 1 and sra_len: 14\n",
      "PRJNA295854: nucleotide_len: 1 and sra_len: 1\n",
      "PRJNA266605: nucleotide_len: 1 and sra_len: 1\n",
      "PRJNA213001: nucleotide_len: 44 and sra_len: 44\n",
      "PRJEB58818: nucleotide_len: 1 and sra_len: 2\n",
      "PRJEB58193: nucleotide_len: 1 and sra_len: 1\n",
      "PRJEB47085: nucleotide_len: 1142 and sra_len: 4\n",
      "PRJEB46830: nucleotide_len: 1856 and sra_len: 95\n",
      "PRJEB4417: nucleotide_len: 1058 and sra_len: 623\n",
      "PRJEB43051: nucleotide_len: 1 and sra_len: 8\n",
      "PRJEB42372: nucleotide_len: 84 and sra_len: 50\n",
      "PRJEB36639: nucleotide_len: 415 and sra_len: 649\n",
      "PRJEB35466: nucleotide_len: 6 and sra_len: 40\n",
      "PRJEB29663: nucleotide_len: 22 and sra_len: 10\n",
      "PRJEB29569: nucleotide_len: 73 and sra_len: 48\n",
      "PRJEB29189: nucleotide_len: 16 and sra_len: 21\n",
      "PRJEB22729: nucleotide_len: 25 and sra_len: 16\n",
      "PRJEB22699: nucleotide_len: 18 and sra_len: 23\n",
      "PRJEB22217: nucleotide_len: 5 and sra_len: 5\n",
      "PRJEB11848: nucleotide_len: 3 and sra_len: 5\n",
      "ERP002037: nucleotide_len: 1 and sra_len: 2\n",
      "ERP000381: nucleotide_len: 109 and sra_len: 109\n"
     ]
    }
   ],
   "source": [
    "# iterate through key in grouped dict: Specific BioProject contains multiple SRA and Nucleotide data\n",
    "\n",
    "for key in grouped_nucleotide_data.keys():\n",
    "    nucleotide_list = grouped_nucleotide_data[key]\n",
    "    sra_list = grouped_sra_data[key]\n",
    "    print(f\"{key}: nucleotide_len: {len(nucleotide_list)} and sra_len: {len(sra_list)}\")"
   ]
  },
  {
   "cell_type": "code",
   "execution_count": 12,
   "metadata": {},
   "outputs": [
    {
     "name": "stdout",
     "output_type": "stream",
     "text": [
      "Total mapped count: 44\n",
      "Unique one to one mapped count: 44\n"
     ]
    }
   ],
   "source": [
    "# PRJNA213001: nucleotide_len: 44 and sra_len: 44\n",
    "\n",
    "file_name = \"Data/Nucleotide_SRA_Mapped_data/PRJNA213001_mapped_record.json\"\n",
    "\n",
    "sra_list = []\n",
    "sra_list = grouped_sra_data[\"PRJNA213001\"]\n",
    "nucleotide_list = grouped_nucleotide_data[\"PRJNA213001\"]\n",
    "mapped_records = []\n",
    "for nucleotide_item in nucleotide_list:\n",
    "    isolate_name = nucleotide_item[\"Source\"][\"isolate\"]\n",
    "    isolate_chunks = isolate_name.split(\"_\")\n",
    "    if(len(isolate_chunks)> 1):\n",
    "        isolate_name = f\"{isolate_chunks[0]} {isolate_chunks[1]}\"\n",
    "        # print(isolate_name)\n",
    "        matched_sra_list = [sra_item for sra_item in sra_list if sra_item[\"Sample_Alias\"] == isolate_name]\n",
    "        mapped_object = {\n",
    "            \"nucleotide_info\": nucleotide_item,\n",
    "            \"sra_info\": matched_sra_list,\n",
    "            \"sra_count\": len(matched_sra_list)\n",
    "        }\n",
    "        mapped_records.append(mapped_object)\n",
    "\n",
    "# len(mapped_records)\n",
    "with open(file_name, \"w\") as file:\n",
    "        json.dump(mapped_records, file, indent=4)\n",
    "        \n",
    "print(f\"Total mapped count: {len(mapped_records)}\")\n",
    "print(f\"Unique one to one mapped count: {len([item for item in mapped_records if item[\"sra_count\"] == 1])}\")"
   ]
  },
  {
   "cell_type": "code",
   "execution_count": 13,
   "metadata": {},
   "outputs": [
    {
     "name": "stdout",
     "output_type": "stream",
     "text": [
      "Total mapped count: 13\n",
      "Unique one to one mapped count: 4\n"
     ]
    }
   ],
   "source": [
    "# PRJEB22699: nucleotide_len: 18 and sra_len: 23\n",
    "\n",
    "file_name = \"Data/Nucleotide_SRA_Mapped_data/PRJEB22699_mapped_record.json\"\n",
    "\n",
    "sra_list = grouped_sra_data[\"PRJEB22699\"]\n",
    "nucleotide_list = grouped_nucleotide_data[\"PRJEB22699\"]\n",
    "mapped_records = []\n",
    "for nucleotide_item in nucleotide_list:\n",
    "    isolate_name = nucleotide_item[\"Source\"][\"isolate\"]\n",
    "    matched_sra_list = [sra_item for sra_item in sra_list if sra_item[\"Library\"][\"LIBRARY_NAME\"] == isolate_name]\n",
    "    if(len(matched_sra_list) > 0):\n",
    "        mapped_object = {\n",
    "            \"nucleotide_info\": nucleotide_item,\n",
    "            \"sra_info\": matched_sra_list,\n",
    "            \"sra_count\": len(matched_sra_list)\n",
    "        }\n",
    "        mapped_records.append(mapped_object)\n",
    "\n",
    "with open(file_name, \"w\") as file:\n",
    "        json.dump(mapped_records, file, indent=4)\n",
    "\n",
    "print(f\"Total mapped count: {len(mapped_records)}\")\n",
    "print(f\"Unique one to one mapped count: {len([item for item in mapped_records if item[\"sra_count\"] == 1])}\")"
   ]
  },
  {
   "cell_type": "code",
   "execution_count": 14,
   "metadata": {},
   "outputs": [
    {
     "name": "stdout",
     "output_type": "stream",
     "text": [
      "Total mapped count: 48\n",
      "Unique one to one mapped count: 48\n"
     ]
    }
   ],
   "source": [
    "# PRJEB29569: nucleotide_len: 73 and sra_len: 48\n",
    "\n",
    "file_name = \"Data/Nucleotide_SRA_Mapped_data/PRJEB29569_mapped_record.json\"\n",
    "\n",
    "sra_list = grouped_sra_data[\"PRJEB29569\"]\n",
    "nucleotide_list = grouped_nucleotide_data[\"PRJEB29569\"]\n",
    "mapped_records = []\n",
    "for nucleotide_item in nucleotide_list:\n",
    "    isolate_name = nucleotide_item[\"Source\"][\"isolate\"]\n",
    "    matched_sra_list = [sra_item for sra_item in sra_list if sra_item[\"Library\"][\"LIBRARY_NAME\"] == isolate_name]\n",
    "    if(len(matched_sra_list) > 0):\n",
    "        mapped_object = {\n",
    "            \"nucleotide_info\": nucleotide_item,\n",
    "            \"sra_info\": matched_sra_list,\n",
    "            \"sra_count\": len(matched_sra_list)\n",
    "        }\n",
    "        mapped_records.append(mapped_object)\n",
    "\n",
    "with open(file_name, \"w\") as file:\n",
    "        json.dump(mapped_records, file, indent=4)\n",
    "\n",
    "print(f\"Total mapped count: {len(mapped_records)}\")\n",
    "print(f\"Unique one to one mapped count: {len([item for item in mapped_records if item[\"sra_count\"] == 1])}\")"
   ]
  },
  {
   "cell_type": "code",
   "execution_count": 15,
   "metadata": {},
   "outputs": [
    {
     "name": "stdout",
     "output_type": "stream",
     "text": [
      "Total mapped count: 16\n",
      "Unique one to one mapped count: 12\n"
     ]
    }
   ],
   "source": [
    "# PRJEB29189: nucleotide_len: 16 and sra_len: 21\n",
    "\n",
    "file_name = \"Data/Nucleotide_SRA_Mapped_data/PRJEB29189_mapped_record.json\"\n",
    "\n",
    "PRJEB29189_sra_list = grouped_sra_data[\"PRJEB29189\"]\n",
    "nucleotide_list = grouped_nucleotide_data[\"PRJEB29189\"]\n",
    "mapped_records = []\n",
    "for nucleotide_item in nucleotide_list:\n",
    "    isolate_name = nucleotide_item[\"Source\"][\"isolate\"]\n",
    "    matched_sra_list = [sra_item for sra_item in PRJEB29189_sra_list if sra_item[\"Library\"][\"LIBRARY_NAME\"] == isolate_name]\n",
    "    if(len(matched_sra_list) > 0):\n",
    "        mapped_object = {\n",
    "            \"nucleotide_info\": nucleotide_item,\n",
    "            \"sra_info\": matched_sra_list,\n",
    "            \"sra_count\": len(matched_sra_list)\n",
    "        }\n",
    "        mapped_records.append(mapped_object)\n",
    "\n",
    "with open(file_name, \"w\") as file:\n",
    "        json.dump(mapped_records, file, indent=4)\n",
    "\n",
    "print(f\"Total mapped count: {len(mapped_records)}\")\n",
    "print(f\"Unique one to one mapped count: {len([item for item in mapped_records if item[\"sra_count\"] == 1])}\")"
   ]
  },
  {
   "cell_type": "code",
   "execution_count": 16,
   "metadata": {},
   "outputs": [
    {
     "name": "stdout",
     "output_type": "stream",
     "text": [
      "Total mapped count: 109\n",
      "Unique one to one mapped count: 109\n"
     ]
    }
   ],
   "source": [
    "# ERP000381: nucleotide_len: 109 and sra_len: 109\n",
    "\n",
    "file_name = \"Data/Nucleotide_SRA_Mapped_data/ERP000381_mapped_record.json\"\n",
    "\n",
    "sra_list = grouped_sra_data[\"ERP000381\"]\n",
    "nucleotide_list = grouped_nucleotide_data[\"ERP000381\"]\n",
    "\n",
    "mapped_records = []\n",
    "for nucleotide_item in nucleotide_list:\n",
    "    isolate_name = nucleotide_item[\"Source\"][\"isolate\"]\n",
    "    matched_sra_list = [sra_item for sra_item in sra_list if sra_item[\"Sample_Ref_Name\"] == isolate_name]\n",
    "    if(len(matched_sra_list) > 0):\n",
    "        mapped_object = {\n",
    "            \"nucleotide_info\": nucleotide_item,\n",
    "            \"sra_info\": matched_sra_list,\n",
    "            \"sra_count\": len(matched_sra_list)\n",
    "        }\n",
    "        mapped_records.append(mapped_object)\n",
    "\n",
    "with open(file_name, \"w\") as file:\n",
    "        json.dump(mapped_records, file, indent=4)\n",
    "\n",
    "print(f\"Total mapped count: {len(mapped_records)}\")\n",
    "print(f\"Unique one to one mapped count: {len([item for item in mapped_records if item[\"sra_count\"] == 1])}\")"
   ]
  },
  {
   "cell_type": "code",
   "execution_count": 17,
   "metadata": {},
   "outputs": [],
   "source": [
    "# Downloading Nucleotide records for Early farmers from across Europe directly descended from Neolithic Aegeans\tbioRxivorg, 032763 (2016)\tKU171094-KU171100\tPRJEB11848\n",
    "\n",
    "import logging\n",
    "\n",
    "from CODE_mitochondrial_nucleotide_info_extraction import NucleotideInteract\n",
    "\n",
    "log = logging.getLogger(__name__)\n",
    "\n",
    "nucleotide_interact = NucleotideInteract(email=\"b_thapamagar@mail.fhsu.edu\", logger=log)\n",
    "\n",
    "nucleotide_data_list = []\n",
    "for i in range(4, 10):\n",
    "    accession_id = f\"KU17109{i}\"\n",
    "    if(i == 10):\n",
    "        accession_id = f\"KU171100\"\n",
    "\n",
    "    nucleotide_item = {\n",
    "                \"AccessionID\": accession_id,\n",
    "                \"BioProject\": \"PRJEB11848\"\n",
    "            }\n",
    "    nucleotide_info = nucleotide_interact.fetch_nucleotide_info(accession_id)\n",
    "    if(len(nucleotide_info) > 0):\n",
    "            if(\"GBSeq_definition\" in nucleotide_info[0]):\n",
    "                nucleotide_item[\"Title\"] = nucleotide_info[0][\"GBSeq_definition\"]\n",
    "            if(\"GBSeq_comment\" in nucleotide_info[0]):\n",
    "                nucleotide_item[\"Assembly_Info\"] = (nucleotide_info[0][\"GBSeq_comment\"])\n",
    "    source_info = nucleotide_interact.extract_source_info_from_nucleotide_info(nucleotide_info)\n",
    "    nucleotide_item[\"Source\"] = source_info\n",
    "    nucleotide_data_list.append(nucleotide_item)\n",
    "    \n",
    "    with open(\"Data/Nucleotide_metadata/PRJEB11848_nucleotide.json\", \"w\") as file:\n",
    "        json.dump(nucleotide_data_list, file, indent=4)\n"
   ]
  },
  {
   "cell_type": "code",
   "execution_count": 18,
   "metadata": {},
   "outputs": [
    {
     "name": "stdout",
     "output_type": "stream",
     "text": [
      "Total mapped count: 4\n",
      "Unique one to one mapped count: 4\n"
     ]
    }
   ],
   "source": [
    "# PRJEB11848: nucleotide_len: 6 and sra_len: 5\n",
    "\n",
    "file_name = \"Data/Nucleotide_SRA_Mapped_data/PRJEB11848_mapped_record.json\"\n",
    "\n",
    "sra_list = grouped_sra_data[\"PRJEB11848\"]\n",
    "    \n",
    "nucleotide_list = []\n",
    "with open(\"Data/Nucleotide_metadata/PRJEB11848_nucleotide.json\", 'r') as file:\n",
    "    nucleotide_list = json.load(file)\n",
    "    \n",
    "mapped_records = []\n",
    "for nucleotide_item in nucleotide_list:\n",
    "    isolate_name = nucleotide_item[\"Source\"][\"isolate\"]\n",
    "    matched_sra_list = [sra_item for sra_item in sra_list if sra_item[\"submitter_id\"] == isolate_name]\n",
    "    if(len(matched_sra_list) > 0):\n",
    "        mapped_object = {\n",
    "            \"nucleotide_info\": nucleotide_item,\n",
    "            \"sra_info\": matched_sra_list,\n",
    "            \"sra_count\": len(matched_sra_list)\n",
    "        }\n",
    "        mapped_records.append(mapped_object)\n",
    "\n",
    "with open(file_name, \"w\") as file:\n",
    "        json.dump(mapped_records, file, indent=4)\n",
    "\n",
    "print(f\"Total mapped count: {len(mapped_records)}\")\n",
    "print(f\"Unique one to one mapped count: {len([item for item in mapped_records if item[\"sra_count\"] == 1])}\")"
   ]
  },
  {
   "cell_type": "code",
   "execution_count": 19,
   "metadata": {},
   "outputs": [
    {
     "name": "stdout",
     "output_type": "stream",
     "text": [
      "Total mapped count: 415\n",
      "Unique one to one mapped count: 182\n"
     ]
    }
   ],
   "source": [
    "# PRJEB36639: nucleotide_len: 415 and sra_len: 649\n",
    "\n",
    "file_name = \"Data/Nucleotide_SRA_Mapped_data/PRJEB36639_mapped_record.json\"\n",
    "\n",
    "sra_list = grouped_sra_data[\"PRJEB36639\"]\n",
    "nucleotide_list = grouped_nucleotide_data[\"PRJEB36639\"]\n",
    "mapped_records = []\n",
    "for nucleotide_item in nucleotide_list:\n",
    "    isolate_name = nucleotide_item[\"Source\"][\"isolate\"]\n",
    "    matched_sra_list = [sra_item for sra_item in sra_list if sra_item[\"Sample_Title\"] == isolate_name]\n",
    "    if(len(matched_sra_list) > 0):\n",
    "        mapped_object = {\n",
    "            \"nucleotide_info\": nucleotide_item,\n",
    "            \"sra_info\": matched_sra_list,\n",
    "            \"sra_count\": len(matched_sra_list)\n",
    "        }\n",
    "        mapped_records.append(mapped_object)\n",
    "\n",
    "with open(file_name, \"w\") as file:\n",
    "        json.dump(mapped_records, file, indent=4)\n",
    "\n",
    "print(f\"Total mapped count: {len(mapped_records)}\")\n",
    "print(f\"Unique one to one mapped count: {len([item for item in mapped_records if item[\"sra_count\"] == 1])}\")"
   ]
  },
  {
   "cell_type": "code",
   "execution_count": 20,
   "metadata": {},
   "outputs": [
    {
     "name": "stdout",
     "output_type": "stream",
     "text": [
      "Total mapped count: 622\n",
      "Unique one to one mapped count: 621\n"
     ]
    }
   ],
   "source": [
    "# PRJEB4417: nucleotide_len: 1058 and sra_len: 623\n",
    "\n",
    "file_name = \"Data/Nucleotide_SRA_Mapped_data/PRJEB4417_mapped_record.json\"\n",
    "\n",
    "sra_list = grouped_sra_data[\"PRJEB4417\"]\n",
    "nucleotide_list = grouped_nucleotide_data[\"PRJEB4417\"]\n",
    "\n",
    "mapped_records = []\n",
    "for nucleotide_item in nucleotide_list:\n",
    "    isolate_name = nucleotide_item[\"Source\"][\"isolate\"]\n",
    "    matched_sra_list = [sra_item for sra_item in sra_list if sra_item[\"Sample_Title\"] == isolate_name]\n",
    "    if(len(matched_sra_list) > 0):\n",
    "        mapped_object = {\n",
    "            \"nucleotide_info\": nucleotide_item,\n",
    "            \"sra_info\": matched_sra_list,\n",
    "            \"sra_count\": len(matched_sra_list)\n",
    "        }\n",
    "        mapped_records.append(mapped_object)\n",
    "\n",
    "with open(file_name, \"w\") as file:\n",
    "        json.dump(mapped_records, file, indent=4)\n",
    "\n",
    "print(f\"Total mapped count: {len(mapped_records)}\")\n",
    "print(f\"Unique one to one mapped count: {len([item for item in mapped_records if item[\"sra_count\"] == 1])}\")"
   ]
  },
  {
   "cell_type": "code",
   "execution_count": 21,
   "metadata": {},
   "outputs": [
    {
     "name": "stdout",
     "output_type": "stream",
     "text": [
      "Total mapped count: 12\n",
      "Unique one to one mapped count: 12\n"
     ]
    }
   ],
   "source": [
    "# PRJNA416844: nucleotide_len: 98 and sra_len: 15\n",
    "\n",
    "file_name = \"Data/Nucleotide_SRA_Mapped_data/PRJNA416844_mapped_record.json\"\n",
    "\n",
    "sra_list = grouped_sra_data[\"PRJNA416844\"]\n",
    "nucleotide_list = grouped_nucleotide_data[\"PRJNA416844\"]\n",
    "\n",
    "mapped_records = []\n",
    "for nucleotide_item in nucleotide_list:\n",
    "    isolate_name = nucleotide_item[\"Source\"][\"isolate\"]\n",
    "    matched_sra_list = [sra_item for sra_item in sra_list if sra_item[\"Library\"][\"LIBRARY_NAME\"] == isolate_name]\n",
    "    if(len(matched_sra_list) > 0):\n",
    "        mapped_object = {\n",
    "            \"nucleotide_info\": nucleotide_item,\n",
    "            \"sra_info\": matched_sra_list,\n",
    "            \"sra_count\": len(matched_sra_list)\n",
    "        }\n",
    "        mapped_records.append(mapped_object)\n",
    "\n",
    "with open(file_name, \"w\") as file:\n",
    "        json.dump(mapped_records, file, indent=4)\n",
    "\n",
    "print(f\"Total mapped count: {len(mapped_records)}\")\n",
    "print(f\"Unique one to one mapped count: {len([item for item in mapped_records if item[\"sra_count\"] == 1])}\")"
   ]
  },
  {
   "cell_type": "code",
   "execution_count": 22,
   "metadata": {},
   "outputs": [
    {
     "name": "stdout",
     "output_type": "stream",
     "text": [
      "Total mapped count: 36\n",
      "Unique one to one mapped count: 10\n"
     ]
    }
   ],
   "source": [
    "# PRJNA421333: nucleotide_len: 55 and sra_len: 80\n",
    "\n",
    "file_name = \"Data/Nucleotide_SRA_Mapped_data/PRJNA421333_mapped_record.json\"\n",
    "\n",
    "sra_list = grouped_sra_data[\"PRJNA421333\"]\n",
    "nucleotide_list = grouped_nucleotide_data[\"PRJNA421333\"]\n",
    "mapped_records = []\n",
    "for nucleotide_item in nucleotide_list:\n",
    "    isolate_name = nucleotide_item[\"Source\"][\"isolate\"]\n",
    "    isolate_chunks = isolate_name.split(\"_\")\n",
    "    if(len(isolate_chunks)> 0):\n",
    "        isolate_name = isolate_chunks[0]\n",
    "        matched_sra_list = [sra_item for sra_item in sra_list if sra_item[\"Title\"].split(\": \")[1] == isolate_name]\n",
    "        if(len(matched_sra_list) > 0):\n",
    "            mapped_object = {\n",
    "                \"nucleotide_info\": nucleotide_item,\n",
    "                \"sra_info\": matched_sra_list,\n",
    "                \"sra_count\": len(matched_sra_list)\n",
    "            }\n",
    "            mapped_records.append(mapped_object)\n",
    "\n",
    "with open(file_name, \"w\") as file:\n",
    "        json.dump(mapped_records, file, indent=4)\n",
    "\n",
    "print(f\"Total mapped count: {len(mapped_records)}\")\n",
    "print(f\"Unique one to one mapped count: {len([item for item in mapped_records if item[\"sra_count\"] == 1])}\")"
   ]
  },
  {
   "cell_type": "code",
   "execution_count": 23,
   "metadata": {},
   "outputs": [
    {
     "name": "stdout",
     "output_type": "stream",
     "text": [
      "Total mapped count: 9\n",
      "Unique one to one mapped count: 9\n"
     ]
    }
   ],
   "source": [
    "# PRJEB29663: nucleotide_len: 22 and sra_len: 10\n",
    "\n",
    "file_name = \"Data/Nucleotide_SRA_Mapped_data/PRJEB29663_mapped_record.json\"\n",
    "\n",
    "sra_list = grouped_sra_data[\"PRJEB29663\"]\n",
    "nucleotide_list = grouped_nucleotide_data[\"PRJEB29663\"]\n",
    "\n",
    "mapped_records = []\n",
    "for nucleotide_item in nucleotide_list:\n",
    "    isolate_name = nucleotide_item[\"Source\"][\"isolate\"]\n",
    "    isolate_chunks = isolate_name.split(\" \")\n",
    "    if(len(isolate_chunks)> 0):\n",
    "        isolate_name = isolate_chunks[-1]\n",
    "        matched_sra_list = [sra_item for sra_item in sra_list if sra_item[\"Sample_Title\"] == isolate_name]\n",
    "        if(len(matched_sra_list) > 0):\n",
    "            mapped_object = {\n",
    "                \"nucleotide_info\": nucleotide_item,\n",
    "                \"sra_info\": matched_sra_list,\n",
    "                \"sra_count\": len(matched_sra_list)\n",
    "            }\n",
    "            mapped_records.append(mapped_object)\n",
    "\n",
    "with open(file_name, \"w\") as file:\n",
    "        json.dump(mapped_records, file, indent=4)\n",
    "\n",
    "print(f\"Total mapped count: {len(mapped_records)}\")\n",
    "print(f\"Unique one to one mapped count: {len([item for item in mapped_records if item[\"sra_count\"] == 1])}\")"
   ]
  },
  {
   "cell_type": "code",
   "execution_count": 24,
   "metadata": {},
   "outputs": [
    {
     "name": "stdout",
     "output_type": "stream",
     "text": [
      "Total mapped count: 97\n",
      "Unique one to one mapped count: 97\n"
     ]
    }
   ],
   "source": [
    "# PRJNA636291: nucleotide_len: 105 and sra_len: 97\n",
    "\n",
    "file_name = \"Data/Nucleotide_SRA_Mapped_data/PRJNA636291_mapped_record.json\"\n",
    "\n",
    "sra_list = grouped_sra_data[\"PRJNA636291\"]\n",
    "nucleotide_list = grouped_nucleotide_data[\"PRJNA636291\"]\n",
    "\n",
    "mapped_records = []\n",
    "for nucleotide_item in nucleotide_list:\n",
    "    isolate_name = nucleotide_item[\"Source\"][\"isolate\"]\n",
    "    if(\"AGENOME_\" in isolate_name):\n",
    "        isolate_name = isolate_name.replace(\"AGENOME_\", \"\")\n",
    "    elif(\"AGENOME-\" in isolate_name):\n",
    "        isolate_name = isolate_name.replace(\"AGENOME-\", \"\")\n",
    "    matched_sra_list = [sra_item for sra_item in sra_list if sra_item[\"Library\"][\"LIBRARY_NAME\"] == isolate_name]\n",
    "    if(len(matched_sra_list) > 0):\n",
    "        mapped_object = {\n",
    "            \"nucleotide_info\": nucleotide_item,\n",
    "            \"sra_info\": matched_sra_list,\n",
    "            \"sra_count\": len(matched_sra_list)\n",
    "        }\n",
    "        mapped_records.append(mapped_object)\n",
    "\n",
    "with open(file_name, \"w\") as file:\n",
    "        json.dump(mapped_records, file, indent=4)\n",
    "\n",
    "print(f\"Total mapped count: {len(mapped_records)}\")\n",
    "print(f\"Unique one to one mapped count: {len([item for item in mapped_records if item[\"sra_count\"] == 1])}\")"
   ]
  },
  {
   "cell_type": "code",
   "execution_count": 25,
   "metadata": {},
   "outputs": [
    {
     "name": "stdout",
     "output_type": "stream",
     "text": [
      "RN039\n",
      "Total mapped count: 5\n",
      "Unique one to one mapped count: 5\n"
     ]
    }
   ],
   "source": [
    "# PRJEB22217: nucleotide_len: 5 and sra_len: 5\n",
    "\n",
    "file_name = \"Data/Nucleotide_SRA_Mapped_data/PRJEB22217_mapped_record.json\"\n",
    "\n",
    "sra_list = grouped_sra_data[\"PRJEB22217\"]\n",
    "nucleotide_list = grouped_nucleotide_data[\"PRJEB22217\"]\n",
    "\n",
    "mapped_records = []\n",
    "for nucleotide_item in nucleotide_list:\n",
    "    isolate_name = nucleotide_item[\"Source\"][\"isolate\"]\n",
    "    if(len(isolate_name) == 4):\n",
    "        isolate_name = f\"{isolate_name[:2]}0{isolate_name[2:]}\"\n",
    "        print(isolate_name)\n",
    "    matched_sra_list = [sra_item for sra_item in sra_list if sra_item[\"Sample_Title\"] == isolate_name]\n",
    "    if(len(matched_sra_list) > 0):\n",
    "        mapped_object = {\n",
    "            \"nucleotide_info\": nucleotide_item,\n",
    "            \"sra_info\": matched_sra_list,\n",
    "            \"sra_count\": len(matched_sra_list)\n",
    "        }\n",
    "        mapped_records.append(mapped_object)\n",
    "\n",
    "with open(file_name, \"w\") as file:\n",
    "        json.dump(mapped_records, file, indent=4)\n",
    "\n",
    "print(f\"Total mapped count: {len(mapped_records)}\")\n",
    "print(f\"Unique one to one mapped count: {len([item for item in mapped_records if item[\"sra_count\"] == 1])}\")"
   ]
  },
  {
   "cell_type": "markdown",
   "metadata": {},
   "source": [
    "These BioProjects SRA and nucleotide yet to match\n",
    "- PRJNA850430: sra_len: 1 and nucleotide_len: 1\n",
    "\n",
    "- PRJNA266605: sra_len: 1 and nucleotide_len: 1\n",
    "\n",
    "- PRJEB58193: sra_len: 1 and nucleotide_len: 1\n",
    "- PRJNA889366: sra_len: 2 and nucleotide_len: 1\n",
    "- PRJNA295854: sra_len: 1 and nucleotide_len: 1\n"
   ]
  },
  {
   "cell_type": "markdown",
   "metadata": {},
   "source": [
    "### Combining nucleotide-SRA mapped metadata"
   ]
  },
  {
   "cell_type": "code",
   "execution_count": 38,
   "metadata": {},
   "outputs": [
    {
     "name": "stdout",
     "output_type": "stream",
     "text": [
      "True\n",
      "FileName: PRJEB22217_mapped_record.json\n",
      "Length: 5\n",
      "Unique one to one nucleotide SRA mapping count: 5\n",
      "mapped total length: 5\n",
      "\n",
      "\n",
      "FileName: PRJNA421333_mapped_record.json\n",
      "Length: 36\n",
      "Unique one to one nucleotide SRA mapping count: 10\n",
      "mapped total length: 41\n",
      "\n",
      "\n",
      "FileName: PRJNA416844_mapped_record.json\n",
      "Length: 12\n",
      "Unique one to one nucleotide SRA mapping count: 12\n",
      "mapped total length: 53\n",
      "\n",
      "\n",
      "FileName: PRJEB29663_mapped_record.json\n",
      "Length: 9\n",
      "Unique one to one nucleotide SRA mapping count: 9\n",
      "mapped total length: 62\n",
      "\n",
      "\n",
      "FileName: PRJEB29569_mapped_record.json\n",
      "Length: 48\n",
      "Unique one to one nucleotide SRA mapping count: 48\n",
      "mapped total length: 110\n",
      "\n",
      "\n",
      "FileName: PRJEB11848_mapped_record.json\n",
      "Length: 4\n",
      "Unique one to one nucleotide SRA mapping count: 4\n",
      "mapped total length: 114\n",
      "\n",
      "\n",
      "FileName: PRJEB4417_mapped_record.json\n",
      "Length: 622\n",
      "Unique one to one nucleotide SRA mapping count: 621\n",
      "mapped total length: 736\n",
      "\n",
      "\n",
      "FileName: PRJEB29189_mapped_record.json\n",
      "Length: 16\n",
      "Unique one to one nucleotide SRA mapping count: 12\n",
      "mapped total length: 752\n",
      "\n",
      "\n",
      "FileName: PRJEB36639_mapped_record.json\n",
      "Length: 415\n",
      "Unique one to one nucleotide SRA mapping count: 182\n",
      "mapped total length: 1167\n",
      "\n",
      "\n",
      "FileName: PRJNA636291_mapped_record.json\n",
      "Length: 97\n",
      "Unique one to one nucleotide SRA mapping count: 97\n",
      "mapped total length: 1264\n",
      "\n",
      "\n",
      "FileName: ERP000381_mapped_record.json\n",
      "Length: 109\n",
      "Unique one to one nucleotide SRA mapping count: 109\n",
      "mapped total length: 1373\n",
      "\n",
      "\n",
      "FileName: PRJEB22699_mapped_record.json\n",
      "Length: 13\n",
      "Unique one to one nucleotide SRA mapping count: 4\n",
      "mapped total length: 1386\n",
      "\n",
      "\n",
      "FileName: PRJNA213001_mapped_record.json\n",
      "Length: 44\n",
      "Unique one to one nucleotide SRA mapping count: 44\n",
      "mapped total length: 1430\n",
      "\n",
      "\n"
     ]
    }
   ],
   "source": [
    "from pathlib import Path\n",
    "\n",
    "nucleotide_sra_mapped_data_directory = Path(\"Data/Nucleotide_SRA_Mapped_data\")\n",
    "\n",
    "print(nucleotide_sra_mapped_data_directory.exists())\n",
    "\n",
    "mapped_data_list = []\n",
    "for json_file in nucleotide_sra_mapped_data_directory.glob(\n",
    "    \"*.json\"\n",
    "):  # use .rglob(\"*.json\") to include sub‑folders\n",
    "    # read / process each file (optional)\n",
    "    # with json_file.open(encoding=\"utf-8\") as f:\n",
    "    #     payload = json.load(f)\n",
    "\n",
    "    with open(json_file, \"r\") as file:\n",
    "        nucleotide_sra_mapped_data = json.load(file)\n",
    "        mapped_data_list.extend(nucleotide_sra_mapped_data)\n",
    "\n",
    "        # do whatever you need here\n",
    "        print(f\"FileName: {json_file.name}\")\n",
    "        print(f\"Length: {len(nucleotide_sra_mapped_data)}\")\n",
    "        one_to_one_mapped_records = [item for item in nucleotide_sra_mapped_data if item[\"sra_count\"] == 1]\n",
    "        print(f\"Unique one to one nucleotide SRA mapping count: {len(one_to_one_mapped_records)}\")\n",
    "        print(f\"mapped total length: {len(mapped_data_list)}\")\n",
    "        print(\"\\n\")\n",
    "\n",
    "# sra_metadata_list = []\n",
    "# with open(\"Data/SRA_data/DATA_sra_info_in_pmc.json\", 'r') as file:\n",
    "#     sra_metadata_list = json.load(file)"
   ]
  },
  {
   "cell_type": "code",
   "execution_count": 39,
   "metadata": {},
   "outputs": [],
   "source": [
    "for item in mapped_data_list:\n",
    "    # print(item[\"nucleotide_info\"][\"AccessionID\"])\n",
    "    accession = item[\"nucleotide_info\"][\"AccessionID\"]\n",
    "    try:\n",
    "        fetch_handle = Entrez.efetch(db=\"nucleotide\", id=accession,  rettype=\"gb\", retmode=\"text\")\n",
    "        nucleotide_data = list(SeqIO.parse(fetch_handle, \"genbank\"))\n",
    "        # print(f\"Seqence length: {len(nucleotide_data[0])}\")\n",
    "        item[\"nucleotide_info\"][\"SequenceLength\"] = len(nucleotide_data[0])\n",
    "    except Exception as e:\n",
    "        print(f\"Accession: {accession} had problem with sequence length\")\n",
    "        print(f\"Error: {e}\")\n",
    "    \n",
    "    "
   ]
  },
  {
   "cell_type": "code",
   "execution_count": 44,
   "metadata": {},
   "outputs": [
    {
     "name": "stdout",
     "output_type": "stream",
     "text": [
      "mapped total length: 1430\n",
      "mapped records total length having one to one nucleotide and SRA mapping: 1157\n"
     ]
    }
   ],
   "source": [
    "## Total mapped object length\n",
    "print(f\"mapped total length: {len(mapped_data_list)}\")\n",
    "\n",
    "records_with_unique_mapping = [item for item in mapped_data_list if item[\"sra_count\"] == 1]\n",
    "print(f\"mapped records total length having one to one nucleotide and SRA mapping: {len(records_with_unique_mapping)}\")\n"
   ]
  },
  {
   "cell_type": "code",
   "execution_count": 45,
   "metadata": {},
   "outputs": [],
   "source": [
    "### Store in JSON \n",
    "combined_json_directory = Path(\"Data/Data_for_DataVerse\")\n",
    "\n",
    "all_combined_json_file_name = \"Complete_Nucleotide_SRA_mapped_data.json\"\n",
    "file_path = combined_json_directory / all_combined_json_file_name\n",
    "with open(file_path, \"w\") as file:\n",
    "        json.dump(mapped_data_list, file, indent=4)\n",
    "        \n",
    "        \n",
    "one_to_one_mapped_json_file_name = \"Nucleotide_SRA_one_to_one_mapped_data.json\"\n",
    "file_path = combined_json_directory / one_to_one_mapped_json_file_name\n",
    "with open(file_path, \"w\") as file:\n",
    "        json.dump(mapped_data_list, file, indent=4)"
   ]
  }
 ],
 "metadata": {
  "kernelspec": {
   "display_name": "bioinfo",
   "language": "python",
   "name": "python3"
  },
  "language_info": {
   "codemirror_mode": {
    "name": "ipython",
    "version": 3
   },
   "file_extension": ".py",
   "mimetype": "text/x-python",
   "name": "python",
   "nbconvert_exporter": "python",
   "pygments_lexer": "ipython3",
   "version": "3.12.10"
  }
 },
 "nbformat": 4,
 "nbformat_minor": 2
}
